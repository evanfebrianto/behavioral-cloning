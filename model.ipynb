{
 "cells": [
  {
   "cell_type": "markdown",
   "metadata": {},
   "source": [
    "### Define all functions"
   ]
  },
  {
   "cell_type": "code",
   "execution_count": 1,
   "metadata": {},
   "outputs": [],
   "source": [
    "import cv2\n",
    "import csv\n",
    "import numpy as np\n",
    "import os"
   ]
  },
  {
   "cell_type": "code",
   "execution_count": 2,
   "metadata": {},
   "outputs": [],
   "source": [
    "def getCSVRows(dataPath, skipHeader=False):\n",
    "    \"\"\"\n",
    "    Returns the rows from a driving log with base directory `dataPath`.\n",
    "    If the file include headers, pass `skipHeader=True`.\n",
    "    \"\"\"\n",
    "    lines = []\n",
    "    with open(dataPath + '/driving_log.csv') as csvFile:\n",
    "        reader = csv.reader(csvFile)\n",
    "        if skipHeader:\n",
    "            next(reader, None)\n",
    "        for line in reader:\n",
    "            lines.append(line)\n",
    "    return lines"
   ]
  },
  {
   "cell_type": "code",
   "execution_count": 3,
   "metadata": {},
   "outputs": [],
   "source": [
    "def findImages(dataPath):\n",
    "    \"\"\"\n",
    "    Finds all the images needed for training on the path `dataPath`.\n",
    "    Returns `([centerPaths], [leftPath], [rightPath], [measurements])`\n",
    "    \"\"\"\n",
    "    imgPath = dataPath + 'IMG/'\n",
    "    lines = getCSVRows(dataPath)\n",
    "    centerPaths = []\n",
    "    leftPath = []\n",
    "    rightPath = []\n",
    "    measurements = []\n",
    "    for line in lines:\n",
    "        try:\n",
    "            measurements.append(float(line[3]))\n",
    "            centerPaths.append(imgPath + line[0].split('\\\\')[-1])\n",
    "            leftPath.append(imgPath + line[1].split('\\\\')[-1])\n",
    "            rightPath.append(imgPath + line[2].split('\\\\')[-1])\n",
    "        except:\n",
    "            print(\"CSV may contain null\")\n",
    "    return (centerPaths, leftPath, rightPath, measurements)"
   ]
  },
  {
   "cell_type": "code",
   "execution_count": 4,
   "metadata": {},
   "outputs": [],
   "source": [
    "def applyAngleCorrection(centerPath, leftPath, rightPath, measurements, angle_correction=0.2):\n",
    "    \"\"\"\n",
    "    Combine the image paths from `centerPath`, `leftPath` and `rightPath` using the correction factor `angle_correction`\n",
    "    Returns ([imagePaths], [mod_measurements])\n",
    "    \"\"\"\n",
    "    imagePaths = []\n",
    "    imagePaths.extend(centerPath)\n",
    "    imagePaths.extend(leftPath)\n",
    "    imagePaths.extend(rightPath)\n",
    "    mod_measurements = []\n",
    "    mod_measurements.extend(measurements)\n",
    "    mod_measurements.extend([x + angle_correction for x in measurements])\n",
    "    mod_measurements.extend([x - angle_correction for x in measurements])\n",
    "    return (imagePaths, mod_measurements)"
   ]
  },
  {
   "cell_type": "code",
   "execution_count": 5,
   "metadata": {},
   "outputs": [],
   "source": [
    "import sklearn\n",
    "\n",
    "def generator(samples, batch_size=128):\n",
    "    \"\"\"\n",
    "    Generate the required images and measurments for training/\n",
    "    `samples` is a list of pairs (`imagePath`, `measurement`).\n",
    "    \"\"\"\n",
    "    num_samples = len(samples)\n",
    "    while 1: # Loop forever so the generator never terminates\n",
    "        samples = sklearn.utils.shuffle(samples)\n",
    "        for offset in range(0, num_samples, batch_size):\n",
    "            batch_samples = samples[offset:offset+batch_size]\n",
    "\n",
    "            images = []\n",
    "            angles = []\n",
    "            for imagePath, measurement in batch_samples:\n",
    "                originalImage = cv2.imread(imagePath)\n",
    "                image = cv2.cvtColor(originalImage, cv2.COLOR_BGR2RGB)\n",
    "                images.append(image)\n",
    "                angles.append(measurement)\n",
    "                \n",
    "                # Augment image by flipping\n",
    "                images.append(cv2.flip(image,1))\n",
    "                angles.append(-measurement)\n",
    "\n",
    "            # trim image to only see section with road\n",
    "            inputs = np.array(images)\n",
    "            outputs = np.array(angles)\n",
    "            shuffled = sklearn.utils.shuffle(inputs, outputs)\n",
    "            yield shuffled[0], shuffled[1]"
   ]
  },
  {
   "cell_type": "code",
   "execution_count": 6,
   "metadata": {},
   "outputs": [],
   "source": [
    "from keras.models import Sequential\n",
    "from keras.layers import Flatten, Dense, Lambda, Cropping2D\n",
    "from keras.layers import Conv2D, AveragePooling2D, Dropout\n",
    "\n",
    "def getModel():\n",
    "    \"\"\"\n",
    "    Create model based on NVDIA Self Driving Cars model\n",
    "    \"\"\"\n",
    "    model = Sequential()\n",
    "    \n",
    "    # Preprocess: Normalize and zero mean variance\n",
    "    model.add(Lambda(lambda x: (x / 255.0) - 0.5421, input_shape=(160,320,3)))\n",
    "    \n",
    "    # Trim image to see road section\n",
    "    model.add(Cropping2D(cropping=((60,20), (0,0))))\n",
    "    \n",
    "    # Modified NVIDIA Self Driving Cars Model\n",
    "    model.add(Conv2D(filters=3, kernel_size=(5,5), strides=(1, 2), padding=\"valid\", activation=\"relu\"))\n",
    "    model.add(Conv2D(filters=24, kernel_size=(5,5), strides=(1, 2), padding=\"valid\", activation=\"relu\"))\n",
    "    model.add(Conv2D(filters=36, kernel_size=(5,5), strides=(2, 2), padding=\"valid\", activation=\"relu\"))\n",
    "    model.add(Conv2D(filters=48, kernel_size=(5,5), strides=(2, 2), padding=\"valid\", activation=\"relu\"))\n",
    "    model.add(Conv2D(filters=64, kernel_size=(3,3), strides=(2, 2), padding=\"valid\", activation=\"relu\"))\n",
    "    model.add(Conv2D(filters=64, kernel_size=(3,3), strides=(2, 2), padding=\"valid\", activation=\"relu\"))\n",
    "    model.add(Flatten())\n",
    "    model.add(Dense(1164))\n",
    "    model.add(Dropout(0.5, seed=0))\n",
    "    model.add(Dense(100))\n",
    "    model.add(Dropout(0.5, seed=0))\n",
    "    model.add(Dense(50))\n",
    "    model.add(Dropout(0.5, seed=0))\n",
    "    model.add(Dense(10))\n",
    "    model.add(Dropout(0.5, seed=0))\n",
    "    model.add(Dense(1))\n",
    "\n",
    "    return model"
   ]
  },
  {
   "cell_type": "markdown",
   "metadata": {},
   "source": [
    "### Reading Images"
   ]
  },
  {
   "cell_type": "code",
   "execution_count": 7,
   "metadata": {},
   "outputs": [
    {
     "name": "stdout",
     "output_type": "stream",
     "text": [
      "Total Images: 93003\n",
      "Total Measurements: 93003\n"
     ]
    }
   ],
   "source": [
    "centerPaths, leftPaths, rightPaths, measurements = findImages('data/')\n",
    "imagePaths, measurements = applyAngleCorrection(centerPaths, leftPaths, rightPaths, measurements, angle_correction=0.2)\n",
    "print('Total Images: {}'.format(len(imagePaths)))\n",
    "print('Total Measurements: {}'.format(len(measurements)))"
   ]
  },
  {
   "cell_type": "markdown",
   "metadata": {},
   "source": [
    "### Split Images using Data Generator"
   ]
  },
  {
   "cell_type": "code",
   "execution_count": 8,
   "metadata": {},
   "outputs": [
    {
     "name": "stdout",
     "output_type": "stream",
     "text": [
      "Train samples: 74402\n",
      "Validation samples: 18601\n"
     ]
    }
   ],
   "source": [
    "BATCH_SIZE = 256\n",
    "\n",
    "from sklearn.model_selection import train_test_split\n",
    "samples = list(zip(imagePaths, measurements))\n",
    "train_samples, validation_samples = train_test_split(samples, test_size=0.2)\n",
    "\n",
    "print('Train samples: {}'.format(len(train_samples)))\n",
    "print('Validation samples: {}'.format(len(validation_samples)))\n",
    "\n",
    "train_generator = generator(train_samples, batch_size=BATCH_SIZE)\n",
    "validation_generator = generator(validation_samples, batch_size=BATCH_SIZE)"
   ]
  },
  {
   "cell_type": "markdown",
   "metadata": {},
   "source": [
    "### Get Model Summary"
   ]
  },
  {
   "cell_type": "code",
   "execution_count": 9,
   "metadata": {},
   "outputs": [
    {
     "name": "stdout",
     "output_type": "stream",
     "text": [
      "Model: \"sequential\"\n",
      "_________________________________________________________________\n",
      "Layer (type)                 Output Shape              Param #   \n",
      "=================================================================\n",
      "lambda (Lambda)              (None, 160, 320, 3)       0         \n",
      "_________________________________________________________________\n",
      "cropping2d (Cropping2D)      (None, 80, 320, 3)        0         \n",
      "_________________________________________________________________\n",
      "conv2d (Conv2D)              (None, 76, 158, 3)        228       \n",
      "_________________________________________________________________\n",
      "conv2d_1 (Conv2D)            (None, 72, 77, 24)        1824      \n",
      "_________________________________________________________________\n",
      "conv2d_2 (Conv2D)            (None, 34, 37, 36)        21636     \n",
      "_________________________________________________________________\n",
      "conv2d_3 (Conv2D)            (None, 15, 17, 48)        43248     \n",
      "_________________________________________________________________\n",
      "conv2d_4 (Conv2D)            (None, 7, 8, 64)          27712     \n",
      "_________________________________________________________________\n",
      "conv2d_5 (Conv2D)            (None, 3, 3, 64)          36928     \n",
      "_________________________________________________________________\n",
      "flatten (Flatten)            (None, 576)               0         \n",
      "_________________________________________________________________\n",
      "dense (Dense)                (None, 1164)              671628    \n",
      "_________________________________________________________________\n",
      "dropout (Dropout)            (None, 1164)              0         \n",
      "_________________________________________________________________\n",
      "dense_1 (Dense)              (None, 100)               116500    \n",
      "_________________________________________________________________\n",
      "dropout_1 (Dropout)          (None, 100)               0         \n",
      "_________________________________________________________________\n",
      "dense_2 (Dense)              (None, 50)                5050      \n",
      "_________________________________________________________________\n",
      "dropout_2 (Dropout)          (None, 50)                0         \n",
      "_________________________________________________________________\n",
      "dense_3 (Dense)              (None, 10)                510       \n",
      "_________________________________________________________________\n",
      "dropout_3 (Dropout)          (None, 10)                0         \n",
      "_________________________________________________________________\n",
      "dense_4 (Dense)              (None, 1)                 11        \n",
      "=================================================================\n",
      "Total params: 925,275\n",
      "Trainable params: 925,275\n",
      "Non-trainable params: 0\n",
      "_________________________________________________________________\n"
     ]
    }
   ],
   "source": [
    "model = getModel()\n",
    "model.summary()"
   ]
  },
  {
   "cell_type": "markdown",
   "metadata": {},
   "source": [
    "### Train the model"
   ]
  },
  {
   "cell_type": "code",
   "execution_count": 16,
   "metadata": {},
   "outputs": [],
   "source": [
    "from math import ceil, exp\n",
    "from keras.callbacks import LearningRateScheduler, ModelCheckpoint\n",
    "\n",
    "# Set Learning Rate Scheduler\n",
    "def scheduler(epoch, lr):\n",
    "    if epoch < 5:\n",
    "        return lr\n",
    "    else:\n",
    "        return lr * exp(-0.1)\n",
    "\n",
    "# Set checkpoint to save the best epoch\n",
    "checkpoint_filepath = './tmp/checkpoint'\n",
    "model_checkpoint_callback = ModelCheckpoint(\n",
    "    filepath=checkpoint_filepath,\n",
    "    save_weights_only=False,\n",
    "    monitor='val_loss',\n",
    "    mode='min',\n",
    "    save_best_only=True)"
   ]
  },
  {
   "cell_type": "code",
   "execution_count": null,
   "metadata": {},
   "outputs": [
    {
     "name": "stdout",
     "output_type": "stream",
     "text": [
      "\n",
      "Epoch 00001: LearningRateScheduler reducing learning rate to 0.0010000000474974513.\n",
      "Epoch 1/10\n",
      "  2/291 [..............................] - ETA: 46s - loss: 0.0851WARNING:tensorflow:Callbacks method `on_train_batch_end` is slow compared to the batch time (batch time: 0.0997s vs `on_train_batch_end` time: 0.2244s). Check your callbacks.\n",
      "291/291 [==============================] - ETA: 0s - loss: 0.0750INFO:tensorflow:Assets written to: ./tmp\\checkpoint\\assets\n",
      "291/291 [==============================] - 114s 393ms/step - loss: 0.0750 - val_loss: 0.0586\n",
      "\n",
      "Epoch 00002: LearningRateScheduler reducing learning rate to 0.0010000000474974513.\n",
      "Epoch 2/10\n",
      "291/291 [==============================] - ETA: 0s - loss: 0.0703INFO:tensorflow:Assets written to: ./tmp\\checkpoint\\assets\n",
      "291/291 [==============================] - 122s 421ms/step - loss: 0.0703 - val_loss: 0.0580\n",
      "\n",
      "Epoch 00003: LearningRateScheduler reducing learning rate to 0.0010000000474974513.\n",
      "Epoch 3/10\n",
      "291/291 [==============================] - ETA: 0s - loss: 0.0679INFO:tensorflow:Assets written to: ./tmp\\checkpoint\\assets\n",
      "291/291 [==============================] - 120s 411ms/step - loss: 0.0679 - val_loss: 0.0557\n",
      "\n",
      "Epoch 00004: LearningRateScheduler reducing learning rate to 0.0010000000474974513.\n",
      "Epoch 4/10\n",
      "291/291 [==============================] - ETA: 0s - loss: 0.0662INFO:tensorflow:Assets written to: ./tmp\\checkpoint\\assets\n",
      "291/291 [==============================] - 119s 410ms/step - loss: 0.0662 - val_loss: 0.0527\n",
      "\n",
      "Epoch 00005: LearningRateScheduler reducing learning rate to 0.0010000000474974513.\n",
      "Epoch 5/10\n",
      "291/291 [==============================] - ETA: 0s - loss: 0.0647INFO:tensorflow:Assets written to: ./tmp\\checkpoint\\assets\n",
      "291/291 [==============================] - 118s 405ms/step - loss: 0.0647 - val_loss: 0.0508\n",
      "\n",
      "Epoch 00006: LearningRateScheduler reducing learning rate to 0.0009048374610134307.\n",
      "Epoch 6/10\n",
      "291/291 [==============================] - 120s 414ms/step - loss: 0.0621 - val_loss: 0.0511\n",
      "\n",
      "Epoch 00007: LearningRateScheduler reducing learning rate to 0.0008187307807475673.\n",
      "Epoch 7/10\n",
      "291/291 [==============================] - 122s 420ms/step - loss: 0.0604 - val_loss: 0.0511\n",
      "\n",
      "Epoch 00008: LearningRateScheduler reducing learning rate to 0.0007408182609837606.\n",
      "Epoch 8/10\n",
      "291/291 [==============================] - ETA: 0s - loss: 0.0580INFO:tensorflow:Assets written to: ./tmp\\checkpoint\\assets\n",
      "291/291 [==============================] - 129s 444ms/step - loss: 0.0580 - val_loss: 0.0503\n",
      "\n",
      "Epoch 00009: LearningRateScheduler reducing learning rate to 0.0006703200923609524.\n",
      "Epoch 9/10\n",
      "291/291 [==============================] - ETA: 0s - loss: 0.0575INFO:tensorflow:Assets written to: ./tmp\\checkpoint\\assets\n",
      "291/291 [==============================] - 118s 405ms/step - loss: 0.0575 - val_loss: 0.0494\n",
      "\n",
      "Epoch 00010: LearningRateScheduler reducing learning rate to 0.000606530675391766.\n",
      "Epoch 10/10\n",
      "207/291 [====================>.........] - ETA: 27s - loss: 0.0558"
     ]
    }
   ],
   "source": [
    "# Compiling and training the model\n",
    "model.compile(loss='mse', optimizer='adam')\n",
    "history_object = model.fit_generator(train_generator, steps_per_epoch=ceil(len(train_samples)/BATCH_SIZE),\n",
    "                 validation_data=validation_generator, validation_steps=ceil(len(validation_samples)/BATCH_SIZE), \n",
    "                 epochs=10, verbose=1, callbacks=[LearningRateScheduler(scheduler, verbose=1), model_checkpoint_callback])\n",
    "\n",
    "model.save('model.h5')"
   ]
  },
  {
   "cell_type": "code",
   "execution_count": 12,
   "metadata": {},
   "outputs": [
    {
     "name": "stdout",
     "output_type": "stream",
     "text": [
      "dict_keys(['loss', 'val_loss', 'lr'])\n",
      "Loss\n",
      "[0.08789233863353729, 0.07260087132453918, 0.06897945702075958, 0.06630781292915344, 0.06424863636493683, 0.062436483800411224, 0.060920149087905884, 0.05862484499812126, 0.057122066617012024, 0.05556102842092514]\n",
      "Validation Loss\n",
      "[0.06089305132627487, 0.05756731331348419, 0.057618122547864914, 0.05321727693080902, 0.05425633117556572, 0.05679797753691673, 0.05297927185893059, 0.04908997565507889, 0.049666162580251694, 0.050953637808561325]\n"
     ]
    }
   ],
   "source": [
    "print(history_object.history.keys())\n",
    "print('Loss')\n",
    "print(history_object.history['loss'])\n",
    "print('Validation Loss')\n",
    "print(history_object.history['val_loss'])"
   ]
  },
  {
   "cell_type": "code",
   "execution_count": 13,
   "metadata": {},
   "outputs": [
    {
     "data": {
      "image/png": "[encoded data removed]",
      "text/plain": [
       "<Figure size 432x288 with 1 Axes>"
      ]
     },
     "metadata": {
      "needs_background": "light"
     },
     "output_type": "display_data"
    }
   ],
   "source": [
    "import matplotlib.pyplot as plt\n",
    "%matplotlib inline\n",
    "\n",
    "plt.plot(history_object.history['loss'])\n",
    "plt.plot(history_object.history['val_loss'])\n",
    "plt.title('model mean squared error loss')\n",
    "plt.ylabel('mean squared error loss')\n",
    "plt.xlabel('epoch')\n",
    "plt.legend(['training set', 'validation set'], loc='upper right')\n",
    "plt.show()"
   ]
  },
  {
   "cell_type": "code",
   "execution_count": 14,
   "metadata": {},
   "outputs": [
    {
     "data": {
      "image/png": "[encoded data removed]",
      "text/plain": [
       "<Figure size 432x288 with 1 Axes>"
      ]
     },
     "metadata": {
      "needs_background": "light"
     },
     "output_type": "display_data"
    }
   ],
   "source": [
    "plt.plot(history_object.history['lr'])\n",
    "plt.title('Learning Rate over Epoch')\n",
    "plt.ylabel('Learning Rate')\n",
    "plt.xlabel('epoch')\n",
    "plt.show()"
   ]
  },
  {
   "cell_type": "code",
   "execution_count": null,
   "metadata": {},
   "outputs": [],
   "source": []
  }
 ],
 "metadata": {
  "kernelspec": {
   "display_name": "Python 3",
   "language": "python",
   "name": "python3"
  },
  "language_info": {
   "codemirror_mode": {
    "name": "ipython",
    "version": 3
   },
   "file_extension": ".py",
   "mimetype": "text/x-python",
   "name": "python",
   "nbconvert_exporter": "python",
   "pygments_lexer": "ipython3",
   "version": "3.8.5"
  }
 },
 "nbformat": 4,
 "nbformat_minor": 5
}
